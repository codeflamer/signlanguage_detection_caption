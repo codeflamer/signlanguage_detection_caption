{
 "cells": [
  {
   "cell_type": "markdown",
   "id": "aa45721e-6272-4075-b90a-f17b849225dd",
   "metadata": {},
   "source": [
    "# Image Collection"
   ]
  },
  {
   "cell_type": "code",
   "execution_count": 1,
   "id": "c711af33-3873-456a-b486-e0d2a9664a6a",
   "metadata": {},
   "outputs": [],
   "source": [
    "import cv2 as cv\n",
    "import uuid\n",
    "import os\n",
    "import time"
   ]
  },
  {
   "cell_type": "code",
   "execution_count": 2,
   "id": "20b2cd0a-7acb-4473-86c2-5eb38cdd5471",
   "metadata": {},
   "outputs": [],
   "source": [
    "IMAGE_PATH = \"Tensorflow\\workspace\\images\\collected_images\""
   ]
  },
  {
   "cell_type": "code",
   "execution_count": 4,
   "id": "206c4dea-ac69-4cd9-9b41-94b64cfa9716",
   "metadata": {},
   "outputs": [],
   "source": [
    "labels = [\"hello\",\"thanks\",\"yes\",\"no\",\"iloveyou\"]\n",
    "num_images = 10"
   ]
  },
  {
   "cell_type": "code",
   "execution_count": 6,
   "id": "81a56381-51f2-417c-8fe2-7ac2293b27cf",
   "metadata": {},
   "outputs": [
    {
     "name": "stdout",
     "output_type": "stream",
     "text": [
      "Collecting images for hello...\n",
      "Collecting images for thanks...\n",
      "Collecting images for yes...\n",
      "Collecting images for no...\n",
      "Collecting images for iloveyou...\n"
     ]
    }
   ],
   "source": [
    "for label in labels:\n",
    "    !mkdir {'Tensorflow\\workspace\\images\\collected_images\\\\'+label}\n",
    "    print(\"Collecting images for {}...\".format(label))\n",
    "    cap = cv.VideoCapture(0)\n",
    "    time.sleep(5)\n",
    "    for i in range(num_images):\n",
    "        ret,frame = cap.read()\n",
    "        image_name = os.path.join(IMAGE_PATH,label+\"/\"+\"{}.jpg\".format(str(uuid.uuid1())))\n",
    "        cv.imwrite(image_name,frame)\n",
    "        cv.imshow(\"frame\",frame)\n",
    "        time.sleep(2)\n",
    "\n",
    "        if cv.waitKey(1) & 0xFF == ord('q'):\n",
    "            break\n",
    "    cap.release()"
   ]
  },
  {
   "cell_type": "code",
   "execution_count": null,
   "id": "9fd34c9b-0ba2-4455-b3bb-35b4f7885bf7",
   "metadata": {},
   "outputs": [],
   "source": []
  },
  {
   "cell_type": "code",
   "execution_count": null,
   "id": "21af9522-2da8-41e2-8c30-75314c120378",
   "metadata": {},
   "outputs": [],
   "source": []
  },
  {
   "cell_type": "code",
   "execution_count": null,
   "id": "1c17f638-db15-4763-91d6-7ad141aa4188",
   "metadata": {},
   "outputs": [],
   "source": []
  },
  {
   "cell_type": "code",
   "execution_count": null,
   "id": "20f4340a-2c27-49b6-8441-fccb63661c4a",
   "metadata": {},
   "outputs": [],
   "source": []
  },
  {
   "cell_type": "code",
   "execution_count": null,
   "id": "a7181fc7-59bf-432d-b75a-5ff1ebf34095",
   "metadata": {},
   "outputs": [],
   "source": []
  },
  {
   "cell_type": "code",
   "execution_count": null,
   "id": "2938ee79-06e9-4862-ae79-e59cbf7cc543",
   "metadata": {},
   "outputs": [],
   "source": []
  }
 ],
 "metadata": {
  "kernelspec": {
   "display_name": "Python (tensorflow)",
   "language": "python",
   "name": "tensorflow"
  },
  "language_info": {
   "codemirror_mode": {
    "name": "ipython",
    "version": 3
   },
   "file_extension": ".py",
   "mimetype": "text/x-python",
   "name": "python",
   "nbconvert_exporter": "python",
   "pygments_lexer": "ipython3",
   "version": "3.9.19"
  }
 },
 "nbformat": 4,
 "nbformat_minor": 5
}
